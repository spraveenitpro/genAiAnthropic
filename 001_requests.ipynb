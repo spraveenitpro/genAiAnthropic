{
 "cells": [
  {
   "cell_type": "code",
   "execution_count": 1,
   "id": "6bf54385",
   "metadata": {},
   "outputs": [
    {
     "name": "stdout",
     "output_type": "stream",
     "text": [
      "Requirement already satisfied: anthropic in /Users/praveen/miniconda/lib/python3.9/site-packages (0.60.0)\n",
      "Requirement already satisfied: python-dotenv in /Users/praveen/miniconda/lib/python3.9/site-packages (1.1.1)\n",
      "Requirement already satisfied: anyio<5,>=3.5.0 in /Users/praveen/miniconda/lib/python3.9/site-packages (from anthropic) (4.10.0)\n",
      "Requirement already satisfied: distro<2,>=1.7.0 in /Users/praveen/miniconda/lib/python3.9/site-packages (from anthropic) (1.9.0)\n",
      "Requirement already satisfied: httpx<1,>=0.25.0 in /Users/praveen/miniconda/lib/python3.9/site-packages (from anthropic) (0.28.1)\n",
      "Requirement already satisfied: jiter<1,>=0.4.0 in /Users/praveen/miniconda/lib/python3.9/site-packages (from anthropic) (0.10.0)\n",
      "Requirement already satisfied: pydantic<3,>=1.9.0 in /Users/praveen/miniconda/lib/python3.9/site-packages (from anthropic) (2.11.7)\n",
      "Requirement already satisfied: sniffio in /Users/praveen/miniconda/lib/python3.9/site-packages (from anthropic) (1.3.1)\n",
      "Requirement already satisfied: typing-extensions<5,>=4.10 in /Users/praveen/miniconda/lib/python3.9/site-packages (from anthropic) (4.14.1)\n",
      "Requirement already satisfied: exceptiongroup>=1.0.2 in /Users/praveen/miniconda/lib/python3.9/site-packages (from anyio<5,>=3.5.0->anthropic) (1.3.0)\n",
      "Requirement already satisfied: idna>=2.8 in /Users/praveen/miniconda/lib/python3.9/site-packages (from anyio<5,>=3.5.0->anthropic) (3.3)\n",
      "Requirement already satisfied: certifi in /Users/praveen/miniconda/lib/python3.9/site-packages (from httpx<1,>=0.25.0->anthropic) (2025.8.3)\n",
      "Requirement already satisfied: httpcore==1.* in /Users/praveen/miniconda/lib/python3.9/site-packages (from httpx<1,>=0.25.0->anthropic) (1.0.9)\n",
      "Requirement already satisfied: h11>=0.16 in /Users/praveen/miniconda/lib/python3.9/site-packages (from httpcore==1.*->httpx<1,>=0.25.0->anthropic) (0.16.0)\n",
      "Requirement already satisfied: annotated-types>=0.6.0 in /Users/praveen/miniconda/lib/python3.9/site-packages (from pydantic<3,>=1.9.0->anthropic) (0.7.0)\n",
      "Requirement already satisfied: pydantic-core==2.33.2 in /Users/praveen/miniconda/lib/python3.9/site-packages (from pydantic<3,>=1.9.0->anthropic) (2.33.2)\n",
      "Requirement already satisfied: typing-inspection>=0.4.0 in /Users/praveen/miniconda/lib/python3.9/site-packages (from pydantic<3,>=1.9.0->anthropic) (0.4.1)\n",
      "\n",
      "\u001b[1m[\u001b[0m\u001b[34;49mnotice\u001b[0m\u001b[1;39;49m]\u001b[0m\u001b[39;49m A new release of pip is available: \u001b[0m\u001b[31;49m24.0\u001b[0m\u001b[39;49m -> \u001b[0m\u001b[32;49m25.2\u001b[0m\n",
      "\u001b[1m[\u001b[0m\u001b[34;49mnotice\u001b[0m\u001b[1;39;49m]\u001b[0m\u001b[39;49m To update, run: \u001b[0m\u001b[32;49mpip install --upgrade pip\u001b[0m\n",
      "Note: you may need to restart the kernel to use updated packages.\n"
     ]
    }
   ],
   "source": [
    "# Install dependencies\n",
    "\n",
    "%pip install anthropic python-dotenv"
   ]
  },
  {
   "cell_type": "code",
   "execution_count": 2,
   "id": "56e42a11",
   "metadata": {},
   "outputs": [
    {
     "data": {
      "text/plain": [
       "True"
      ]
     },
     "execution_count": 2,
     "metadata": {},
     "output_type": "execute_result"
    }
   ],
   "source": [
    "# Load env variables\n",
    "\n",
    "from dotenv import load_dotenv\n",
    "load_dotenv()\n",
    "\n",
    "\n"
   ]
  },
  {
   "cell_type": "code",
   "execution_count": 3,
   "id": "b1cf38cf",
   "metadata": {},
   "outputs": [],
   "source": [
    "# Create an API client\n",
    "\n",
    "from anthropic import Anthropic\n",
    "client = Anthropic()\n",
    "model = \"claude-sonnet-4-0\""
   ]
  },
  {
   "cell_type": "code",
   "execution_count": 4,
   "id": "715f2f3a",
   "metadata": {},
   "outputs": [],
   "source": [
    "\n",
    "# Helper functions\n",
    "\n",
    "def add_user_message(messages, text):\n",
    "    user_message = {\"role\": \"user\", \"content\": text}\n",
    "    messages.append(user_message)\n",
    "\n",
    "def add_assistant_message(messages, text):\n",
    "    assistant_message = {\"role\": \"assistant\", \"content\": text}\n",
    "    messages.append(assistant_message)\n",
    "\n",
    "\n",
    "def chat(messages):\n",
    "    # Make A Request\n",
    "    message = client.messages.create(\n",
    "        model=model,\n",
    "    max_tokens=1000,\n",
    "    messages=messages\n",
    "    )\n",
    "    return message.content[0].text\n",
    "\n",
    "\n",
    "\n",
    "\n"
   ]
  },
  {
   "cell_type": "code",
   "execution_count": 5,
   "id": "47d222f9",
   "metadata": {},
   "outputs": [
    {
     "name": "stdout",
     "output_type": "stream",
     "text": [
      "Here are the messages:\n"
     ]
    },
    {
     "data": {
      "text/plain": [
       "[{'role': 'user', 'content': 'Define bitcoin in one sentence'},\n",
       " {'role': 'assistant',\n",
       "  'content': 'Bitcoin is a decentralized digital currency that operates on a peer-to-peer network using blockchain technology, allowing people to send and receive payments without relying on traditional financial institutions.'},\n",
       " {'role': 'user', 'content': 'Tell me more about bitcoin'},\n",
       " {'role': 'assistant',\n",
       "  'content': 'Here\\'s a more detailed overview of Bitcoin:\\n\\n## What is Bitcoin?\\nBitcoin was created in 2009 by an anonymous person or group using the pseudonym \"Satoshi Nakamoto.\" It\\'s the world\\'s first successful cryptocurrency and remains the largest by market capitalization.\\n\\n## How it Works\\n- **Blockchain Technology**: Transactions are recorded on a public, distributed ledger called a blockchain\\n- **Mining**: New bitcoins are created and transactions are verified through a process called mining, where computers solve complex mathematical problems\\n- **Limited Supply**: Only 21 million bitcoins will ever exist, making it deflationary by design\\n- **Wallets**: Users store bitcoins in digital wallets secured by cryptographic keys\\n\\n## Key Features\\n- **Decentralized**: No central authority controls it\\n- **Pseudonymous**: Transactions are public but user identities are masked\\n- **Global**: Works 24/7 across borders without intermediaries\\n- **Irreversible**: Transactions cannot be reversed once confirmed\\n\\n## Uses and Considerations\\n- **Store of Value**: Often called \"digital gold\"\\n- **Medium of Exchange**: Used for payments and remittances\\n- **Investment**: Many treat it as a speculative asset\\n- **Volatility**: Price can fluctuate dramatically\\n- **Energy Consumption**: Mining requires significant computational power\\n- **Regulatory Uncertainty**: Legal status varies by country\\n\\nBitcoin has sparked the creation of thousands of other cryptocurrencies and continues to influence discussions about the future of money and finance.'}]"
      ]
     },
     "execution_count": 5,
     "metadata": {},
     "output_type": "execute_result"
    }
   ],
   "source": [
    "# Putting it all together\n",
    "\n",
    "\n",
    "\n",
    "# Start with an empty message list\n",
    "\n",
    "messages = []\n",
    "\n",
    "\n",
    "# Add the initial user question\n",
    "\n",
    "add_user_message(messages, \"Define bitcoin in one sentence\")\n",
    "messages\n",
    "\n",
    "\n",
    "# Pass the list of messages to the chat function\n",
    "\n",
    "answer = chat(messages)\n",
    "answer\n",
    "\n",
    "\n",
    "# Take the answer and add it as an assistant message into our list\n",
    "add_assistant_message(messages, answer)\n",
    "#messages\n",
    "\n",
    "\n",
    "# Add in users follow up question\n",
    "add_user_message(messages, \"Tell me more about bitcoin\")\n",
    "#messages\n",
    "\n",
    "# Call chat again with list of messages to get final answer\n",
    "answer = chat(messages)\n",
    "\n",
    "# Take the answer and add it as an assistant message into our list\n",
    "add_assistant_message(messages, answer)\n",
    "answer\n",
    "\n",
    "print(\"Here are the messages:\")\n",
    "messages\n"
   ]
  },
  {
   "cell_type": "code",
   "execution_count": null,
   "id": "eb010e72",
   "metadata": {},
   "outputs": [],
   "source": []
  }
 ],
 "metadata": {
  "kernelspec": {
   "display_name": "base",
   "language": "python",
   "name": "python3"
  },
  "language_info": {
   "codemirror_mode": {
    "name": "ipython",
    "version": 3
   },
   "file_extension": ".py",
   "mimetype": "text/x-python",
   "name": "python",
   "nbconvert_exporter": "python",
   "pygments_lexer": "ipython3",
   "version": "3.9.12"
  }
 },
 "nbformat": 4,
 "nbformat_minor": 5
}
