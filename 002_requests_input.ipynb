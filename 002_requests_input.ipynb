{
 "cells": [
  {
   "cell_type": "code",
   "execution_count": 1,
   "id": "6bf54385",
   "metadata": {},
   "outputs": [
    {
     "name": "stdout",
     "output_type": "stream",
     "text": [
      "Requirement already satisfied: anthropic in ./.venv/lib/python3.13/site-packages (0.60.0)\n",
      "Requirement already satisfied: python-dotenv in ./.venv/lib/python3.13/site-packages (1.1.1)\n",
      "Requirement already satisfied: anyio<5,>=3.5.0 in ./.venv/lib/python3.13/site-packages (from anthropic) (4.10.0)\n",
      "Requirement already satisfied: distro<2,>=1.7.0 in ./.venv/lib/python3.13/site-packages (from anthropic) (1.9.0)\n",
      "Requirement already satisfied: httpx<1,>=0.25.0 in ./.venv/lib/python3.13/site-packages (from anthropic) (0.28.1)\n",
      "Requirement already satisfied: jiter<1,>=0.4.0 in ./.venv/lib/python3.13/site-packages (from anthropic) (0.10.0)\n",
      "Requirement already satisfied: pydantic<3,>=1.9.0 in ./.venv/lib/python3.13/site-packages (from anthropic) (2.11.7)\n",
      "Requirement already satisfied: sniffio in ./.venv/lib/python3.13/site-packages (from anthropic) (1.3.1)\n",
      "Requirement already satisfied: typing-extensions<5,>=4.10 in ./.venv/lib/python3.13/site-packages (from anthropic) (4.14.1)\n",
      "Requirement already satisfied: idna>=2.8 in ./.venv/lib/python3.13/site-packages (from anyio<5,>=3.5.0->anthropic) (3.10)\n",
      "Requirement already satisfied: certifi in ./.venv/lib/python3.13/site-packages (from httpx<1,>=0.25.0->anthropic) (2025.8.3)\n",
      "Requirement already satisfied: httpcore==1.* in ./.venv/lib/python3.13/site-packages (from httpx<1,>=0.25.0->anthropic) (1.0.9)\n",
      "Requirement already satisfied: h11>=0.16 in ./.venv/lib/python3.13/site-packages (from httpcore==1.*->httpx<1,>=0.25.0->anthropic) (0.16.0)\n",
      "Requirement already satisfied: annotated-types>=0.6.0 in ./.venv/lib/python3.13/site-packages (from pydantic<3,>=1.9.0->anthropic) (0.7.0)\n",
      "Requirement already satisfied: pydantic-core==2.33.2 in ./.venv/lib/python3.13/site-packages (from pydantic<3,>=1.9.0->anthropic) (2.33.2)\n",
      "Requirement already satisfied: typing-inspection>=0.4.0 in ./.venv/lib/python3.13/site-packages (from pydantic<3,>=1.9.0->anthropic) (0.4.1)\n",
      "Note: you may need to restart the kernel to use updated packages.\n"
     ]
    }
   ],
   "source": [
    "# Install dependencies\n",
    "\n",
    "%pip install anthropic python-dotenv"
   ]
  },
  {
   "cell_type": "code",
   "execution_count": 2,
   "id": "56e42a11",
   "metadata": {},
   "outputs": [
    {
     "data": {
      "text/plain": [
       "True"
      ]
     },
     "execution_count": 2,
     "metadata": {},
     "output_type": "execute_result"
    }
   ],
   "source": [
    "# Load env variables\n",
    "\n",
    "from dotenv import load_dotenv\n",
    "load_dotenv()\n",
    "\n",
    "\n"
   ]
  },
  {
   "cell_type": "code",
   "execution_count": 3,
   "id": "b1cf38cf",
   "metadata": {},
   "outputs": [],
   "source": [
    "# Create an API client\n",
    "\n",
    "from anthropic import Anthropic\n",
    "client = Anthropic()\n",
    "model = \"claude-sonnet-4-0\""
   ]
  },
  {
   "cell_type": "code",
   "execution_count": 4,
   "id": "715f2f3a",
   "metadata": {},
   "outputs": [],
   "source": [
    "\n",
    "# Helper functions\n",
    "\n",
    "def add_user_message(messages, text):\n",
    "    user_message = {\"role\": \"user\", \"content\": text}\n",
    "    messages.append(user_message)\n",
    "\n",
    "def add_assistant_message(messages, text):\n",
    "    assistant_message = {\"role\": \"assistant\", \"content\": text}\n",
    "    messages.append(assistant_message)\n",
    "\n",
    "\n",
    "def chat(messages):\n",
    "    # Make A Request\n",
    "    message = client.messages.create(\n",
    "        model=model,\n",
    "    max_tokens=1000,\n",
    "    messages=messages\n",
    "    )\n",
    "    return message.content[0].text\n",
    "\n",
    "\n",
    "\n",
    "\n"
   ]
  },
  {
   "cell_type": "code",
   "execution_count": null,
   "id": "47d222f9",
   "metadata": {},
   "outputs": [
    {
     "data": {
      "text/plain": [
       "'Bitcoin is a revolutionary digital currency created in 2009 by an anonymous person or group using the pseudonym Satoshi Nakamoto. Here are the key aspects:\\n\\n## How Bitcoin Works\\n- **Blockchain Technology**: Transactions are recorded on a public, distributed ledger called a blockchain\\n- **Mining**: New bitcoins are created through a process where computers solve complex mathematical problems\\n- **Peer-to-Peer**: Transactions happen directly between users without intermediaries\\n- **Cryptographic Security**: Uses advanced encryption to secure transactions and control new coin creation\\n\\n## Key Characteristics\\n- **Limited Supply**: Only 21 million bitcoins will ever exist\\n- **Decentralized**: No single entity controls it\\n- **Pseudonymous**: Transactions are public but user identities are masked by wallet addresses\\n- **Global**: Works 24/7 across borders without traditional banking restrictions\\n\\n## Uses and Adoption\\n- **Store of Value**: Often called \"digital gold\" as a hedge against inflation\\n- **Medium of Exchange**: Used for purchases, though adoption varies globally\\n- **Investment Asset**: Traded on exchanges and included in some institutional portfolios\\n- **Remittances**: Enables cheaper international money transfers\\n\\n## Challenges\\n- **Volatility**: Price can fluctuate dramatically\\n- **Energy Consumption**: Mining requires significant electricity\\n- **Scalability**: Network can process limited transactions per second\\n- **Regulatory Uncertainty**: Different countries have varying approaches to regulation\\n\\nBitcoin represents the first successful implementation of a truly decentralized digital currency system.'"
      ]
     },
     "execution_count": 5,
     "metadata": {},
     "output_type": "execute_result"
    }
   ],
   "source": [
    "# Putting it all together\n",
    "\n",
    "\n",
    "\n",
    "# Start with an empty message list\n",
    "\n",
    "messages = []\n",
    "\n",
    "\n",
    "# Use a while true loop to run chatbot forever\n",
    "\n",
    "while True:\n",
    "    user_input = input(\"> \")\n",
    "    print(\">\", user_input)\n",
    "\n",
    "\n",
    "# Add users input to messages list\n",
    "\n",
    "    add_user_message(messages, user_input)\n",
    "    messages\n",
    "\n",
    "\n",
    "\n",
    "# Call claude with chat function\n",
    "\n",
    "    answer = chat(messages)\n",
    "\n",
    "\n",
    "\n",
    "\n",
    "# Add generated text to list of messages\n",
    "\n",
    "add_assistant_message(messages, answer)\n",
    "messages\n",
    "\n",
    "# Print generated text\n",
    "print(\"---\")\n",
    "print(answer)\n",
    "print(\"---\")"
   ]
  },
  {
   "cell_type": "code",
   "execution_count": null,
   "id": "e242c571",
   "metadata": {},
   "outputs": [],
   "source": []
  }
 ],
 "metadata": {
  "kernelspec": {
   "display_name": ".venv",
   "language": "python",
   "name": "python3"
  },
  "language_info": {
   "codemirror_mode": {
    "name": "ipython",
    "version": 3
   },
   "file_extension": ".py",
   "mimetype": "text/x-python",
   "name": "python",
   "nbconvert_exporter": "python",
   "pygments_lexer": "ipython3",
   "version": "3.13.3"
  }
 },
 "nbformat": 4,
 "nbformat_minor": 5
}
