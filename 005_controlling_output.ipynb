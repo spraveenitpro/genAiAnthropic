{
 "cells": [
  {
   "cell_type": "code",
   "execution_count": 1,
   "id": "b0ebdbe5",
   "metadata": {},
   "outputs": [
    {
     "name": "stdout",
     "output_type": "stream",
     "text": [
      "Requirement already satisfied: anthropic in /Users/praveen/miniconda/lib/python3.9/site-packages (0.60.0)\n",
      "Requirement already satisfied: python-dotenv in /Users/praveen/miniconda/lib/python3.9/site-packages (1.1.1)\n",
      "Requirement already satisfied: anyio<5,>=3.5.0 in /Users/praveen/miniconda/lib/python3.9/site-packages (from anthropic) (4.10.0)\n",
      "Requirement already satisfied: distro<2,>=1.7.0 in /Users/praveen/miniconda/lib/python3.9/site-packages (from anthropic) (1.9.0)\n",
      "Requirement already satisfied: httpx<1,>=0.25.0 in /Users/praveen/miniconda/lib/python3.9/site-packages (from anthropic) (0.28.1)\n",
      "Requirement already satisfied: jiter<1,>=0.4.0 in /Users/praveen/miniconda/lib/python3.9/site-packages (from anthropic) (0.10.0)\n",
      "Requirement already satisfied: pydantic<3,>=1.9.0 in /Users/praveen/miniconda/lib/python3.9/site-packages (from anthropic) (2.11.7)\n",
      "Requirement already satisfied: sniffio in /Users/praveen/miniconda/lib/python3.9/site-packages (from anthropic) (1.3.1)\n",
      "Requirement already satisfied: typing-extensions<5,>=4.10 in /Users/praveen/miniconda/lib/python3.9/site-packages (from anthropic) (4.14.1)\n",
      "Requirement already satisfied: exceptiongroup>=1.0.2 in /Users/praveen/miniconda/lib/python3.9/site-packages (from anyio<5,>=3.5.0->anthropic) (1.3.0)\n",
      "Requirement already satisfied: idna>=2.8 in /Users/praveen/miniconda/lib/python3.9/site-packages (from anyio<5,>=3.5.0->anthropic) (3.3)\n",
      "Requirement already satisfied: certifi in /Users/praveen/miniconda/lib/python3.9/site-packages (from httpx<1,>=0.25.0->anthropic) (2025.8.3)\n",
      "Requirement already satisfied: httpcore==1.* in /Users/praveen/miniconda/lib/python3.9/site-packages (from httpx<1,>=0.25.0->anthropic) (1.0.9)\n",
      "Requirement already satisfied: h11>=0.16 in /Users/praveen/miniconda/lib/python3.9/site-packages (from httpcore==1.*->httpx<1,>=0.25.0->anthropic) (0.16.0)\n",
      "Requirement already satisfied: annotated-types>=0.6.0 in /Users/praveen/miniconda/lib/python3.9/site-packages (from pydantic<3,>=1.9.0->anthropic) (0.7.0)\n",
      "Requirement already satisfied: pydantic-core==2.33.2 in /Users/praveen/miniconda/lib/python3.9/site-packages (from pydantic<3,>=1.9.0->anthropic) (2.33.2)\n",
      "Requirement already satisfied: typing-inspection>=0.4.0 in /Users/praveen/miniconda/lib/python3.9/site-packages (from pydantic<3,>=1.9.0->anthropic) (0.4.1)\n",
      "\n",
      "\u001b[1m[\u001b[0m\u001b[34;49mnotice\u001b[0m\u001b[1;39;49m]\u001b[0m\u001b[39;49m A new release of pip is available: \u001b[0m\u001b[31;49m24.0\u001b[0m\u001b[39;49m -> \u001b[0m\u001b[32;49m25.2\u001b[0m\n",
      "\u001b[1m[\u001b[0m\u001b[34;49mnotice\u001b[0m\u001b[1;39;49m]\u001b[0m\u001b[39;49m To update, run: \u001b[0m\u001b[32;49mpip install --upgrade pip\u001b[0m\n",
      "Note: you may need to restart the kernel to use updated packages.\n"
     ]
    }
   ],
   "source": [
    "# Install dependencies\n",
    "%pip install anthropic python-dotenv\n",
    "\n",
    "\n",
    "# Load env variables\n",
    "from dotenv import load_dotenv\n",
    "load_dotenv()\n",
    "\n",
    "# Create an API client\n",
    "from anthropic import Anthropic\n",
    "client = Anthropic()\n",
    "model = \"claude-sonnet-4-0\"\n",
    "\n",
    "\n",
    "# Helper functions\n",
    "\n",
    "def add_user_message(messages, text):\n",
    "    user_message = {\"role\": \"user\", \"content\": text}\n",
    "    messages.append(user_message)\n",
    "\n",
    "def add_assistant_message(messages, text):\n",
    "    assistant_message = {\"role\": \"assistant\", \"content\": text}\n",
    "    messages.append(assistant_message)\n",
    "\n",
    "\n",
    "def chat(messages, system=None, temperature=1.0, stop_sequences=[]):\n",
    "\n",
    "    params = {\n",
    "        \"model\": model,\n",
    "        \"max_tokens\": 1000,\n",
    "        \"messages\": messages,\n",
    "        \"temperature\": temperature,\n",
    "        \"stop_sequences\": stop_sequences,\n",
    "    }\n",
    "\n",
    "    if system:\n",
    "        params[\"system\"] = system\n",
    "\n",
    "    # Make A Request\n",
    "    message = client.messages.create(**params)\n",
    "\n",
    "\n",
    "    return message.content[0].text\n",
    "\n",
    "\n"
   ]
  },
  {
   "cell_type": "code",
   "execution_count": 2,
   "id": "e0862fbf",
   "metadata": {},
   "outputs": [
    {
     "name": "stdout",
     "output_type": "stream",
     "text": [
      " it's got twice the caffeine which will give you more energy to tackle the day and it tastes so much more complex and delicious!\n",
      "\n",
      "But wait, that's just my personal preference sneaking in. The truth is, both coffee and tea can be great breakfast choices depending on what you're looking for:\n",
      "\n",
      "**Coffee might be better if you:**\n",
      "- Need a bigger caffeine boost (coffee has 95mg vs tea's 25-50mg per cup)\n",
      "- Enjoy stronger, more robust flavors\n",
      "- Want something that pairs well with hearty breakfast foods\n",
      "\n",
      "**Tea might be better if you:**\n",
      "- Prefer a gentler caffeine lift\n",
      "- Want something with antioxidants and potentially fewer jitters\n",
      "- Like lighter, more varied flavors\n",
      "- Have a sensitive stomach (tea is generally less acidic)\n",
      "\n",
      "The \"best\" choice really depends on your taste preferences, caffeine tolerance, health goals, and what makes you feel good in the morning. What matters most to you in your morning drink?\n"
     ]
    }
   ],
   "source": [
    "messages = []\n",
    "\n",
    "add_user_message(messages, \"Is it coffee or tea better at breakfast\")\n",
    "\n",
    "add_assistant_message(messages, \"Coffee is definitely better because\")\n",
    "\n",
    "answer = chat(messages)\n",
    "print(answer)\n",
    "\n",
    "\n"
   ]
  },
  {
   "cell_type": "code",
   "execution_count": 3,
   "id": "d5e071f5",
   "metadata": {},
   "outputs": [
    {
     "data": {
      "text/plain": [
       "'1, 2, 3, 4, '"
      ]
     },
     "execution_count": 3,
     "metadata": {},
     "output_type": "execute_result"
    }
   ],
   "source": [
    "messages = []\n",
    "\n",
    "add_user_message(messages, \"Count from 1 to 10\")\n",
    "answer = chat(messages , stop_sequences=[\"5\"])\n",
    "answer\n"
   ]
  },
  {
   "cell_type": "code",
   "execution_count": 4,
   "id": "cd330f40",
   "metadata": {},
   "outputs": [
    {
     "data": {
      "text/plain": [
       "'\\n{\\n  \"Name\": \"OrderProcessingRule\",\\n  \"EventPattern\": {\\n    \"source\": [\"myapp.orders\"],\\n    \"detail-type\": [\"Order Placed\"]\\n  },\\n  \"Targets\": [\\n    {\\n      \"Id\": \"1\",\\n      \"Arn\": \"arn:aws:lambda:us-east-1:123456789012:function:ProcessOrder\"\\n    }\\n  ]\\n}\\n'"
      ]
     },
     "execution_count": 4,
     "metadata": {},
     "output_type": "execute_result"
    }
   ],
   "source": [
    "messages = []\n",
    "add_user_message(messages, \"generate a very short event bridge rule as json \")\n",
    "add_assistant_message(messages, \"```json\")\n",
    "text = chat(messages, stop_sequences=[\"```\"])\n",
    "text"
   ]
  },
  {
   "cell_type": "code",
   "execution_count": 5,
   "id": "c119c683",
   "metadata": {},
   "outputs": [
    {
     "data": {
      "text/plain": [
       "{'Name': 'OrderProcessingRule',\n",
       " 'EventPattern': {'source': ['myapp.orders'], 'detail-type': ['Order Placed']},\n",
       " 'Targets': [{'Id': '1',\n",
       "   'Arn': 'arn:aws:lambda:us-east-1:123456789012:function:ProcessOrder'}]}"
      ]
     },
     "execution_count": 5,
     "metadata": {},
     "output_type": "execute_result"
    }
   ],
   "source": [
    "import json\n",
    "\n",
    "json.loads(text.strip())"
   ]
  },
  {
   "cell_type": "code",
   "execution_count": null,
   "id": "bef75f22",
   "metadata": {},
   "outputs": [
    {
     "data": {
      "text/plain": [
       "'bash\\naws s3 ls\\n\\naws ec2 describe-instances\\n\\naws iam list-users'"
      ]
     },
     "execution_count": 6,
     "metadata": {},
     "output_type": "execute_result"
    }
   ],
   "source": [
    "messages = []\n",
    "prompt = \"\"\"\n",
    "Generate three different sample aws cli commands. each should be very short.\n",
    "\"\"\"\n",
    "add_user_message(messages, prompt)\n",
    "add_assistant_message(messages, \"```bash\")\n",
    "text = chat(messages, stop_sequences=[\"```\"])\n",
    "text.strip()\n",
    "\n",
    "\n",
    "\n",
    "\n",
    "\n",
    "\n",
    "\n",
    "\n",
    "\n"
   ]
  },
  {
   "cell_type": "code",
   "execution_count": 7,
   "id": "e7aea256",
   "metadata": {},
   "outputs": [
    {
     "data": {
      "text/markdown": [
       "bash\n",
       "aws s3 ls\n",
       "\n",
       "aws ec2 describe-instances\n",
       "\n",
       "aws iam list-users\n"
      ],
      "text/plain": [
       "<IPython.core.display.Markdown object>"
      ]
     },
     "execution_count": 7,
     "metadata": {},
     "output_type": "execute_result"
    }
   ],
   "source": [
    "from IPython.display import Markdown\n",
    "Markdown(text)\n"
   ]
  }
 ],
 "metadata": {
  "kernelspec": {
   "display_name": "base",
   "language": "python",
   "name": "python3"
  },
  "language_info": {
   "codemirror_mode": {
    "name": "ipython",
    "version": 3
   },
   "file_extension": ".py",
   "mimetype": "text/x-python",
   "name": "python",
   "nbconvert_exporter": "python",
   "pygments_lexer": "ipython3",
   "version": "3.9.12"
  }
 },
 "nbformat": 4,
 "nbformat_minor": 5
}
